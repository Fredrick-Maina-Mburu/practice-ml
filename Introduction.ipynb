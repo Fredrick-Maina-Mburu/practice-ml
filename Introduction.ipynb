{
 "cells": [
  {
   "cell_type": "code",
   "execution_count": null,
   "id": "120ee291",
   "metadata": {},
   "outputs": [],
   "source": [
    "import pandas as pd\n",
    "# import numpy as np\n",
    "import matplotlib.pyplot as plt\n",
    "import seaborn as sns\n",
    "import warnings\n",
    "warnings.filterwarnings('ignore')"
   ]
  },
  {
   "cell_type": "code",
   "execution_count": null,
   "id": "48086ee8",
   "metadata": {},
   "outputs": [],
   "source": [
    "data = pd.read_csv(\"used_cars.csv\")"
   ]
  },
  {
   "cell_type": "code",
   "execution_count": null,
   "id": "ccc46b6d",
   "metadata": {},
   "outputs": [],
   "source": [
    "data.head()\n",
    "data.tail()\n",
    "data.info()\n",
    "data.nunique()\n",
    "data.isnull().sum()"
   ]
  },
  {
   "cell_type": "markdown",
   "id": "43c356ba",
   "metadata": {},
   "source": [
    "Just a comment"
   ]
  },
  {
   "cell_type": "code",
   "execution_count": null,
   "id": "2de4e7f9",
   "metadata": {},
   "outputs": [],
   "source": [
    "(data.isnull().sum()/(len(data))) * 100"
   ]
  },
  {
   "cell_type": "markdown",
   "id": "9879d65b",
   "metadata": {},
   "source": [
    "Does smth"
   ]
  },
  {
   "cell_type": "code",
   "execution_count": null,
   "id": "60242129",
   "metadata": {},
   "outputs": [],
   "source": [
    "data = data.drop(['S.No.'], axis = 1)\n",
    "data.info()"
   ]
  }
 ],
 "metadata": {
  "kernelspec": {
   "display_name": "Python 3 (ipykernel)",
   "language": "python",
   "name": "python3"
  },
  "language_info": {
   "codemirror_mode": {
    "name": "ipython",
    "version": 3
   },
   "file_extension": ".py",
   "mimetype": "text/x-python",
   "name": "python",
   "nbconvert_exporter": "python",
   "pygments_lexer": "ipython3",
   "version": "3.11.5"
  }
 },
 "nbformat": 4,
 "nbformat_minor": 5
}
